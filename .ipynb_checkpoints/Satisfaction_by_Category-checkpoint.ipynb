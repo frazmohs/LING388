{
 "cells": [
  {
   "cell_type": "code",
   "execution_count": 1,
   "id": "8a6083e9",
   "metadata": {},
   "outputs": [],
   "source": [
    "import pandas as pd"
   ]
  },
  {
   "cell_type": "code",
   "execution_count": 2,
   "id": "1d1c1022",
   "metadata": {},
   "outputs": [],
   "source": [
    "import warnings\n",
    "warnings.filterwarnings(\"ignore\")"
   ]
  },
  {
   "cell_type": "code",
   "execution_count": 3,
   "id": "46720663",
   "metadata": {},
   "outputs": [],
   "source": [
    "analysis = pd.read_csv(\"data/analysis.csv\")"
   ]
  },
  {
   "cell_type": "code",
   "execution_count": 4,
   "id": "0cb17a9d",
   "metadata": {},
   "outputs": [
    {
     "data": {
      "text/html": [
       "<div>\n",
       "<style scoped>\n",
       "    .dataframe tbody tr th:only-of-type {\n",
       "        vertical-align: middle;\n",
       "    }\n",
       "\n",
       "    .dataframe tbody tr th {\n",
       "        vertical-align: top;\n",
       "    }\n",
       "\n",
       "    .dataframe thead th {\n",
       "        text-align: right;\n",
       "    }\n",
       "</style>\n",
       "<table border=\"1\" class=\"dataframe\">\n",
       "  <thead>\n",
       "    <tr style=\"text-align: right;\">\n",
       "      <th></th>\n",
       "      <th>attorney</th>\n",
       "      <th>Juvenile</th>\n",
       "      <th>Individual Rights</th>\n",
       "      <th>Family and Children</th>\n",
       "      <th>Education</th>\n",
       "      <th>Health and Disability</th>\n",
       "      <th>Housing and Homelessness</th>\n",
       "      <th>Consumer Financial Questions</th>\n",
       "      <th>Other</th>\n",
       "      <th>Income Maintenance</th>\n",
       "    </tr>\n",
       "  </thead>\n",
       "  <tbody>\n",
       "    <tr>\n",
       "      <th>0</th>\n",
       "      <td>4BEA1C5C-0CF4-4564-B0A9-A8DC3AE43739</td>\n",
       "      <td>0.0</td>\n",
       "      <td>0.0</td>\n",
       "      <td>0.000000</td>\n",
       "      <td>0.0</td>\n",
       "      <td>0.0</td>\n",
       "      <td>0.000000</td>\n",
       "      <td>0.0</td>\n",
       "      <td>100.0</td>\n",
       "      <td>0.0</td>\n",
       "    </tr>\n",
       "    <tr>\n",
       "      <th>1</th>\n",
       "      <td>28CB5D48-2AD3-4009-B4E3-B8923F062EC6</td>\n",
       "      <td>0.0</td>\n",
       "      <td>0.0</td>\n",
       "      <td>0.000000</td>\n",
       "      <td>0.0</td>\n",
       "      <td>0.0</td>\n",
       "      <td>0.000000</td>\n",
       "      <td>0.0</td>\n",
       "      <td>0.0</td>\n",
       "      <td>0.0</td>\n",
       "    </tr>\n",
       "    <tr>\n",
       "      <th>2</th>\n",
       "      <td>050CE712-400E-48CE-933E-DE4CE7AE8F06</td>\n",
       "      <td>0.0</td>\n",
       "      <td>0.0</td>\n",
       "      <td>23.076923</td>\n",
       "      <td>0.0</td>\n",
       "      <td>0.0</td>\n",
       "      <td>0.000000</td>\n",
       "      <td>0.0</td>\n",
       "      <td>0.0</td>\n",
       "      <td>0.0</td>\n",
       "    </tr>\n",
       "    <tr>\n",
       "      <th>3</th>\n",
       "      <td>FD90469C-C6B0-4642-946F-9813C9790CDA</td>\n",
       "      <td>0.0</td>\n",
       "      <td>0.0</td>\n",
       "      <td>6.122449</td>\n",
       "      <td>0.0</td>\n",
       "      <td>0.0</td>\n",
       "      <td>17.647058</td>\n",
       "      <td>0.0</td>\n",
       "      <td>0.0</td>\n",
       "      <td>0.0</td>\n",
       "    </tr>\n",
       "    <tr>\n",
       "      <th>4</th>\n",
       "      <td>B2279E99-763B-475E-8442-3B452E0E1B62</td>\n",
       "      <td>0.0</td>\n",
       "      <td>0.0</td>\n",
       "      <td>0.000000</td>\n",
       "      <td>0.0</td>\n",
       "      <td>0.0</td>\n",
       "      <td>0.000000</td>\n",
       "      <td>0.0</td>\n",
       "      <td>0.0</td>\n",
       "      <td>0.0</td>\n",
       "    </tr>\n",
       "    <tr>\n",
       "      <th>...</th>\n",
       "      <td>...</td>\n",
       "      <td>...</td>\n",
       "      <td>...</td>\n",
       "      <td>...</td>\n",
       "      <td>...</td>\n",
       "      <td>...</td>\n",
       "      <td>...</td>\n",
       "      <td>...</td>\n",
       "      <td>...</td>\n",
       "      <td>...</td>\n",
       "    </tr>\n",
       "    <tr>\n",
       "      <th>4662</th>\n",
       "      <td>09250093-F46E-4753-ACA7-47D4DEE2A0AA</td>\n",
       "      <td>0.0</td>\n",
       "      <td>0.0</td>\n",
       "      <td>0.000000</td>\n",
       "      <td>0.0</td>\n",
       "      <td>0.0</td>\n",
       "      <td>0.000000</td>\n",
       "      <td>0.0</td>\n",
       "      <td>0.0</td>\n",
       "      <td>0.0</td>\n",
       "    </tr>\n",
       "    <tr>\n",
       "      <th>4663</th>\n",
       "      <td>746D9D72-0559-4AB9-A330-0C8041253869</td>\n",
       "      <td>0.0</td>\n",
       "      <td>0.0</td>\n",
       "      <td>0.000000</td>\n",
       "      <td>0.0</td>\n",
       "      <td>0.0</td>\n",
       "      <td>0.000000</td>\n",
       "      <td>0.0</td>\n",
       "      <td>0.0</td>\n",
       "      <td>0.0</td>\n",
       "    </tr>\n",
       "    <tr>\n",
       "      <th>4664</th>\n",
       "      <td>085C1895-C64B-48ED-8694-42790EA7636F</td>\n",
       "      <td>0.0</td>\n",
       "      <td>0.0</td>\n",
       "      <td>0.000000</td>\n",
       "      <td>0.0</td>\n",
       "      <td>0.0</td>\n",
       "      <td>0.000000</td>\n",
       "      <td>0.0</td>\n",
       "      <td>0.0</td>\n",
       "      <td>0.0</td>\n",
       "    </tr>\n",
       "    <tr>\n",
       "      <th>4665</th>\n",
       "      <td>68860F2D-755F-4474-AA21-C9F9CEEA2050</td>\n",
       "      <td>0.0</td>\n",
       "      <td>0.0</td>\n",
       "      <td>0.000000</td>\n",
       "      <td>0.0</td>\n",
       "      <td>0.0</td>\n",
       "      <td>0.000000</td>\n",
       "      <td>0.0</td>\n",
       "      <td>0.0</td>\n",
       "      <td>0.0</td>\n",
       "    </tr>\n",
       "    <tr>\n",
       "      <th>4666</th>\n",
       "      <td>3CB0C229-B160-4A2C-9918-6B62ED3B669F</td>\n",
       "      <td>0.0</td>\n",
       "      <td>0.0</td>\n",
       "      <td>0.000000</td>\n",
       "      <td>0.0</td>\n",
       "      <td>0.0</td>\n",
       "      <td>0.000000</td>\n",
       "      <td>0.0</td>\n",
       "      <td>0.0</td>\n",
       "      <td>0.0</td>\n",
       "    </tr>\n",
       "  </tbody>\n",
       "</table>\n",
       "<p>4667 rows × 10 columns</p>\n",
       "</div>"
      ],
      "text/plain": [
       "                                  attorney  Juvenile  Individual Rights  \\\n",
       "0     4BEA1C5C-0CF4-4564-B0A9-A8DC3AE43739       0.0                0.0   \n",
       "1     28CB5D48-2AD3-4009-B4E3-B8923F062EC6       0.0                0.0   \n",
       "2     050CE712-400E-48CE-933E-DE4CE7AE8F06       0.0                0.0   \n",
       "3     FD90469C-C6B0-4642-946F-9813C9790CDA       0.0                0.0   \n",
       "4     B2279E99-763B-475E-8442-3B452E0E1B62       0.0                0.0   \n",
       "...                                    ...       ...                ...   \n",
       "4662  09250093-F46E-4753-ACA7-47D4DEE2A0AA       0.0                0.0   \n",
       "4663  746D9D72-0559-4AB9-A330-0C8041253869       0.0                0.0   \n",
       "4664  085C1895-C64B-48ED-8694-42790EA7636F       0.0                0.0   \n",
       "4665  68860F2D-755F-4474-AA21-C9F9CEEA2050       0.0                0.0   \n",
       "4666  3CB0C229-B160-4A2C-9918-6B62ED3B669F       0.0                0.0   \n",
       "\n",
       "      Family and Children  Education  Health and Disability  \\\n",
       "0                0.000000        0.0                    0.0   \n",
       "1                0.000000        0.0                    0.0   \n",
       "2               23.076923        0.0                    0.0   \n",
       "3                6.122449        0.0                    0.0   \n",
       "4                0.000000        0.0                    0.0   \n",
       "...                   ...        ...                    ...   \n",
       "4662             0.000000        0.0                    0.0   \n",
       "4663             0.000000        0.0                    0.0   \n",
       "4664             0.000000        0.0                    0.0   \n",
       "4665             0.000000        0.0                    0.0   \n",
       "4666             0.000000        0.0                    0.0   \n",
       "\n",
       "      Housing and Homelessness  Consumer Financial Questions  Other  \\\n",
       "0                     0.000000                           0.0  100.0   \n",
       "1                     0.000000                           0.0    0.0   \n",
       "2                     0.000000                           0.0    0.0   \n",
       "3                    17.647058                           0.0    0.0   \n",
       "4                     0.000000                           0.0    0.0   \n",
       "...                        ...                           ...    ...   \n",
       "4662                  0.000000                           0.0    0.0   \n",
       "4663                  0.000000                           0.0    0.0   \n",
       "4664                  0.000000                           0.0    0.0   \n",
       "4665                  0.000000                           0.0    0.0   \n",
       "4666                  0.000000                           0.0    0.0   \n",
       "\n",
       "      Income Maintenance  \n",
       "0                    0.0  \n",
       "1                    0.0  \n",
       "2                    0.0  \n",
       "3                    0.0  \n",
       "4                    0.0  \n",
       "...                  ...  \n",
       "4662                 0.0  \n",
       "4663                 0.0  \n",
       "4664                 0.0  \n",
       "4665                 0.0  \n",
       "4666                 0.0  \n",
       "\n",
       "[4667 rows x 10 columns]"
      ]
     },
     "execution_count": 4,
     "metadata": {},
     "output_type": "execute_result"
    }
   ],
   "source": [
    "analysis"
   ]
  },
  {
   "cell_type": "code",
   "execution_count": 5,
   "id": "deec84f9",
   "metadata": {},
   "outputs": [
    {
     "data": {
      "text/plain": [
       "Juvenile                        0.071245\n",
       "Individual Rights               1.180741\n",
       "Family and Children             3.134185\n",
       "Education                       0.286312\n",
       "Health and Disability           0.600938\n",
       "Housing and Homelessness        2.451921\n",
       "Consumer Financial Questions    1.749982\n",
       "Other                           2.062037\n",
       "Income Maintenance              0.556738\n",
       "dtype: float64"
      ]
     },
     "execution_count": 5,
     "metadata": {},
     "output_type": "execute_result"
    }
   ],
   "source": [
    "means = analysis.mean()\n",
    "means"
   ]
  },
  {
   "cell_type": "code",
   "execution_count": 6,
   "id": "76d333f2",
   "metadata": {},
   "outputs": [
    {
     "data": {
      "text/plain": [
       "Juvenile                         2.558051\n",
       "Individual Rights                9.178026\n",
       "Family and Children             13.163090\n",
       "Education                        4.921523\n",
       "Health and Disability            6.852101\n",
       "Housing and Homelessness        12.080016\n",
       "Consumer Financial Questions    10.532565\n",
       "Other                           10.728624\n",
       "Income Maintenance               6.427103\n",
       "dtype: float64"
      ]
     },
     "execution_count": 6,
     "metadata": {},
     "output_type": "execute_result"
    }
   ],
   "source": [
    "stdevs = analysis.std()\n",
    "stdevs"
   ]
  },
  {
   "cell_type": "code",
   "execution_count": 7,
   "id": "4ac6530b",
   "metadata": {},
   "outputs": [
    {
     "data": {
      "text/plain": [
       "<AxesSubplot: title={'center': 'Average Proportion of Gratitude per Category'}, xlabel='Average proportion', ylabel='Category'>"
      ]
     },
     "execution_count": 7,
     "metadata": {},
     "output_type": "execute_result"
    },
    {
     "data": {
      "image/png": "[encoded data removed]",
      "text/plain": [
       "<Figure size 640x480 with 1 Axes>"
      ]
     },
     "metadata": {},
     "output_type": "display_data"
    }
   ],
   "source": [
    "means.plot(kind=\"barh\", title = \"Average Proportion of Gratitude per Category\",\n",
    "           xlabel=\"Average proportion\", ylabel=\"Category\")"
   ]
  }
 ],
 "metadata": {
  "kernelspec": {
   "display_name": "Python 3 (ipykernel)",
   "language": "python",
   "name": "python3"
  },
  "language_info": {
   "codemirror_mode": {
    "name": "ipython",
    "version": 3
   },
   "file_extension": ".py",
   "mimetype": "text/x-python",
   "name": "python",
   "nbconvert_exporter": "python",
   "pygments_lexer": "ipython3",
   "version": "3.9.7"
  }
 },
 "nbformat": 4,
 "nbformat_minor": 5
}
